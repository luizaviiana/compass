{
 "cells": [
  {
   "cell_type": "markdown",
   "id": "5284ebcd",
   "metadata": {},
   "source": [
    "# Etapa1 "
   ]
  },
  {
   "cell_type": "code",
   "execution_count": 2,
   "id": "e2a57801",
   "metadata": {},
   "outputs": [
    {
     "name": "stdout",
     "output_type": "stream",
     "text": [
      "Bucket 'compass-ana-lab-glue' criado com sucesso.\n",
      "Arquivo enviado para s3://compass-ana-lab-glue/lab-glue/input/nomes.csv\n"
     ]
    }
   ],
   "source": [
    "import boto3\n",
    "import os\n",
    "from dotenv import load_dotenv\n",
    "from botocore.exceptions import ClientError\n",
    "\n",
    "load_dotenv()\n",
    "\n",
    "aws_access_key = os.getenv(\"AWS_ACCESS_KEY_ID\")\n",
    "aws_secret_key = os.getenv(\"AWS_SECRET_ACCESS_KEY\")\n",
    "aws_session_token = os.getenv(\"AWS_SESSION_TOKEN\")\n",
    "aws_region = os.getenv(\"AWS_REGION\")\n",
    "\n",
    "bucket_name = \"compass-ana-lab-glue\"\n",
    "s3_key = \"lab-glue/input/nomes.csv\"\n",
    "local_file_path = \"nomes.csv\"\n",
    "\n",
    "s3 = boto3.client(\n",
    "    \"s3\",\n",
    "    aws_access_key_id=aws_access_key,\n",
    "    aws_secret_access_key=aws_secret_key,\n",
    "    aws_session_token=aws_session_token,\n",
    "    region_name=aws_region\n",
    ")\n",
    "\n",
    "try:\n",
    "    s3.head_bucket(Bucket=bucket_name)\n",
    "    print(f\"Bucket '{bucket_name}' já existe.\")\n",
    "except ClientError as e:\n",
    "    if int(e.response[\"Error\"][\"Code\"]) == 404:\n",
    "        if aws_region == \"us-east-1\":\n",
    "            s3.create_bucket(Bucket=bucket_name)\n",
    "        else:\n",
    "            s3.create_bucket(\n",
    "                Bucket=bucket_name,\n",
    "                CreateBucketConfiguration={\"LocationConstraint\": aws_region}\n",
    "            )\n",
    "        print(f\"Bucket '{bucket_name}' criado com sucesso.\")\n",
    "\n",
    "try:\n",
    "    s3.upload_file(local_file_path, bucket_name, s3_key)\n",
    "    print(f\"Arquivo enviado para s3://{bucket_name}/{s3_key}\")\n",
    "except Exception as upload_error:\n",
    "    print(\"Erro ao enviar o arquivo:\", upload_error)\n"
   ]
  }
 ],
 "metadata": {
  "kernelspec": {
   "display_name": "base",
   "language": "python",
   "name": "python3"
  },
  "language_info": {
   "codemirror_mode": {
    "name": "ipython",
    "version": 3
   },
   "file_extension": ".py",
   "mimetype": "text/x-python",
   "name": "python",
   "nbconvert_exporter": "python",
   "pygments_lexer": "ipython3",
   "version": "3.12.7"
  }
 },
 "nbformat": 4,
 "nbformat_minor": 5
}
