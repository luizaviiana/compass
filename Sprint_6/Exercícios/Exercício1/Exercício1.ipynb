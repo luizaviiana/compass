{
 "cells": [
  {
   "cell_type": "markdown",
   "id": "3487849e",
   "metadata": {},
   "source": [
    "# Exercício 1\n"
   ]
  },
  {
   "cell_type": "markdown",
   "id": "9cb24fed",
   "metadata": {},
   "source": [
    "## Etapa 1"
   ]
  },
  {
   "cell_type": "markdown",
   "id": "a3fc45b4",
   "metadata": {},
   "source": [
    "Para execução da etapa 1, utilizei a biblioteca random para gerar uma lista com 250 números inteiros aleatórios entre 1 e 1000, apliquei o método .reverse() para inverter a ordem dos elementos e imprimi o resultado para validação."
   ]
  },
  {
   "cell_type": "code",
   "execution_count": 1,
   "id": "0c4efe3b",
   "metadata": {},
   "outputs": [
    {
     "name": "stdout",
     "output_type": "stream",
     "text": [
      "[556, 116, 334, 143, 550, 328, 312, 877, 906, 768, 691, 922, 965, 402, 504, 641, 184, 212, 70, 564, 201, 309, 335, 63, 60, 823, 388, 957, 280, 65, 464, 915, 315, 671, 977, 489, 392, 603, 839, 115, 228, 133, 360, 118, 489, 528, 333, 152, 558, 406, 237, 160, 896, 642, 426, 709, 241, 750, 753, 996, 934, 553, 407, 175, 922, 504, 655, 937, 326, 771, 43, 923, 477, 764, 851, 747, 347, 517, 97, 142, 695, 533, 87, 146, 234, 34, 376, 470, 336, 455, 114, 485, 497, 755, 980, 417, 229, 488, 625, 697, 614, 696, 241, 545, 68, 249, 192, 823, 539, 319, 595, 644, 952, 82, 199, 555, 493, 800, 445, 372, 227, 249, 660, 595, 7, 309, 481, 339, 246, 170, 12, 872, 574, 15, 87, 876, 572, 768, 846, 679, 910, 105, 482, 578, 520, 572, 326, 535, 785, 18, 160, 557, 789, 952, 77, 869, 735, 669, 944, 163, 526, 910, 969, 338, 275, 119, 791, 402, 902, 461, 434, 849, 962, 776, 82, 211, 211, 547, 847, 354, 964, 281, 835, 575, 643, 777, 646, 864, 981, 676, 316, 402, 44, 379, 626, 976, 428, 132, 739, 896, 224, 815, 998, 589, 251, 955, 339, 214, 119, 989, 167, 762, 993, 986, 318, 284, 345, 666, 551, 176, 652, 309, 474, 776, 171, 728, 354, 912, 509, 565, 2, 565, 25, 122, 902, 602, 706, 849, 970, 318, 434, 702, 365, 988, 574, 442, 117, 566, 668, 179]\n"
     ]
    }
   ],
   "source": [
    "import random\n",
    "\n",
    "numeros = [random.randint(1, 1000) for _ in range(250)]\n",
    "numeros.reverse()\n",
    "\n",
    "print(numeros)"
   ]
  },
  {
   "cell_type": "markdown",
   "id": "8cd451f2",
   "metadata": {},
   "source": [
    "## Etapa 2"
   ]
  },
  {
   "cell_type": "markdown",
   "id": "ba2999dd",
   "metadata": {},
   "source": [
    "Declarei uma lista com 20 nomes de animais, utilizei o método .sort() para ordená-los em ordem alfabética, imprimi os nomes individualmente com list comprehension e, por fim, gravei cada nome em uma linha do arquivo de texto chamado animais_ordenados.txt."
   ]
  },
  {
   "cell_type": "code",
   "execution_count": 2,
   "id": "bc847424",
   "metadata": {},
   "outputs": [
    {
     "name": "stdout",
     "output_type": "stream",
     "text": [
      "baleia\n",
      "borboleta\n",
      "cachorro\n",
      "camaleão\n",
      "capivara\n",
      "cavalo\n",
      "coelho\n",
      "crocodilo\n",
      "galinha\n",
      "gato\n",
      "girafa\n",
      "golfinho\n",
      "macaco\n",
      "peixe\n",
      "pinguim\n",
      "rato\n",
      "tartaruga\n",
      "tubarão\n",
      "urso\n",
      "zebra\n"
     ]
    }
   ],
   "source": [
    "animais = [\n",
    "    \"capivara\", \"camaleão\", \"tartaruga\", \"tubarão\", \"borboleta\", \"girafa\", \"zebra\", \"crocodilo\",\n",
    "    \"peixe\", \"galinha\", \"urso\", \"cavalo\", \"coelho\", \"rato\", \"macaco\", \"baleia\",\n",
    "    \"golfinho\", \"pinguim\", \"gato\", \"cachorro\"\n",
    "]\n",
    "\n",
    "animais.sort()\n",
    "\n",
    "[print(animal) for animal in animais]\n",
    "\n",
    "with open(\"animais_ordenados.txt\", \"w\", encoding=\"utf-8\") as f:\n",
    "    for animal in animais:\n",
    "        f.write(animal + \"\\n\")"
   ]
  },
  {
   "cell_type": "markdown",
   "id": "379950c2",
   "metadata": {},
   "source": [
    "## Etapa 3"
   ]
  },
  {
   "cell_type": "markdown",
   "id": "6b698a82",
   "metadata": {},
   "source": [
    "Utilizei a biblioteca names para gerar uma amostra com 1.000 nomes únicos e, a partir deles, criei 10 mil nomes aleatórios usando random.choice(), armazenando os dados no arquivo nomes_aleatorios_teste.txt, com um nome por linha, como forma de teste antes da execução final com 10 milhões de registros."
   ]
  },
  {
   "cell_type": "code",
   "execution_count": 3,
   "id": "a1b347da",
   "metadata": {},
   "outputs": [
    {
     "name": "stdout",
     "output_type": "stream",
     "text": [
      "Gerando 1000 nomes únicos...\n",
      "Gerando 10000 nomes aleatórios...\n",
      "Salvando nomes no arquivo 'nomes_aleatorios_teste.txt'...\n",
      "Arquivo gerado com sucesso (teste).\n"
     ]
    }
   ],
   "source": [
    "import random\n",
    "import time\n",
    "import os\n",
    "import names\n",
    "\n",
    "random.seed(40)\n",
    "\n",
    "qtd_nomes_unicos = 1000            \n",
    "qtd_nomes_aleatorios = 10000       \n",
    "\n",
    "print(f\"Gerando {qtd_nomes_unicos} nomes únicos...\")\n",
    "nomes_unicos = [names.get_full_name() for _ in range(qtd_nomes_unicos)]\n",
    "\n",
    "print(f\"Gerando {qtd_nomes_aleatorios} nomes aleatórios...\")\n",
    "nomes_aleatorios = [random.choice(nomes_unicos) for _ in range(qtd_nomes_aleatorios)]\n",
    "\n",
    "nome_arquivo = \"nomes_aleatorios_teste.txt\"\n",
    "\n",
    "print(f\"Salvando nomes no arquivo '{nome_arquivo}'...\")\n",
    "with open(nome_arquivo, \"w\", encoding=\"utf-8\") as f:\n",
    "    for nome in nomes_aleatorios:\n",
    "        f.write(nome + \"\\n\")\n",
    "\n",
    "print(\"Arquivo gerado com sucesso (teste).\")\n"
   ]
  },
  {
   "cell_type": "markdown",
   "id": "6d034dd7",
   "metadata": {},
   "source": [
    "Após validado o teste, segui com o código, agora no arquivo .py, assim, utilizei a biblioteca names para gerar 39.080 nomes únicos e, com base nessa lista, criei 10 milhões de nomes aleatórios utilizando random.choice(), salvando todos em um arquivo de texto chamado nomes_aleatorios.txt, com um nome por linha, conforme solicitado no exercício."
   ]
  }
 ],
 "metadata": {
  "kernelspec": {
   "display_name": "base",
   "language": "python",
   "name": "python3"
  },
  "language_info": {
   "codemirror_mode": {
    "name": "ipython",
    "version": 3
   },
   "file_extension": ".py",
   "mimetype": "text/x-python",
   "name": "python",
   "nbconvert_exporter": "python",
   "pygments_lexer": "ipython3",
   "version": "3.12.7"
  }
 },
 "nbformat": 4,
 "nbformat_minor": 5
}
