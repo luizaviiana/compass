{
 "cells": [
  {
   "cell_type": "markdown",
   "id": "8f40526a",
   "metadata": {},
   "source": [
    "###  Exercício 4\n",
    "---"
   ]
  },
  {
   "cell_type": "markdown",
   "id": "537cf641",
   "metadata": {},
   "source": [
    "Neste desafio estarei aplicando alguns fundamentos de ETL utilizando como recurso a linguagem de python (pura), a entrada é o arquivo actors.csv. Teremos 5 etapas e as respostas obtidas em cada uma delas estarão sendo armazenadas nos respectivos arquivos de texto.\n",
    "\n",
    "Inicialmente comecei criando a função separar_campos_csv()  para realizar o parse manual das linhas do arquivo actors.csv, tratando corretamente campos entre aspas e vírgulas. Depois, abri o arquivo em modo leitura com codificação utf-8 utilizando with open(), assim, li todas as linhas com readlines() e armazenei na variável linhas_cruas. A primeira linha, a do cabeçalho, foi processada com a função para extrair os nomes das colunas e as outras foram percorridas com list comprehension, gerando a lista registros com os dados separados por campos.\n",
    "\n"
   ]
  },
  {
   "cell_type": "code",
   "execution_count": 16,
   "id": "06e5bbfd",
   "metadata": {},
   "outputs": [],
   "source": [
    "def separar_campos_csv(texto_linha):\n",
    "    \"\"\"\n",
    "    Função para dividir uma linha CSV em campos, fazendo o tratamento correto\n",
    "    de aspas e vírgulas dentro de campos.\n",
    "    \"\"\"\n",
    "    campos = []     \n",
    "    valor_temporario = '' \n",
    "    esta_em_aspas = False\n",
    "\n",
    "    for caractere in texto_linha:\n",
    "        if caractere == '\"':\n",
    "            esta_em_aspas = not esta_em_aspas\n",
    "        elif caractere == ',' and not esta_em_aspas:\n",
    "            campos.append(valor_temporario)\n",
    "            valor_temporario = ''\n",
    "        else:\n",
    "            valor_temporario += caractere\n",
    "    campos.append(valor_temporario)\n",
    "\n",
    "    return campos\n",
    "\n",
    "with open(\"actors.csv\", \"r\", encoding=\"utf-8\") as arquivo_csv:\n",
    "    linhas_cruas = arquivo_csv.readlines()\n",
    "\n",
    "cabecalho_tabela = separar_campos_csv(linhas_cruas[0].strip())\n",
    "registros = [separar_campos_csv(linha.strip()) for linha in linhas_cruas[1:]]"
   ]
  },
  {
   "cell_type": "markdown",
   "id": "b1c9024c",
   "metadata": {},
   "source": [
    "Etapa 1: Apresente o ator/atriz com maior número de filmes e a respectiva quantidade\n",
    "____________________________________________________________________________________\n",
    "\n",
    "Para resolução dessa etapa fiz duas variáveis, para armazenar o ator/atriz com mais filmes e a maior quantidade encontrada. Em seguida, percorri a lista registros e, a cada iteração pega o nome da pessoa e a quantidade de filmes (convertida para inteiro), fiz a comparação desse valor com o atual máximo registrado e, se fosse maior, atualizava as variáveis. Finalizei montando uma string formatada com o resultado e salvei a mensagem no arquivo etapa-1.txt.\n",
    "\n"
   ]
  },
  {
   "cell_type": "code",
   "execution_count": 25,
   "id": "a1f56407",
   "metadata": {},
   "outputs": [],
   "source": [
    "quantidade_maxima = 0\n",
    "pessoa_com_mais_filmes = \"\"\n",
    "\n",
    "for registro in registros:\n",
    "    nome_pessoa = registro[0]\n",
    "    quantidade_filmes = int(registro[2])\n",
    "    \n",
    "    if quantidade_filmes > quantidade_maxima:\n",
    "        quantidade_maxima = quantidade_filmes\n",
    "        pessoa_com_mais_filmes = nome_pessoa\n",
    "\n",
    "resposta_etapa1 = f\"Ator/Atriz que possui o maior número de filmes no dataset é {pessoa_com_mais_filmes} com {quantidade_maxima} filmes.\"\n",
    "\n",
    "with open(\"etapa-1.txt\", \"w\", encoding='utf-8') as arquivo_saida:\n",
    "    arquivo_saida.write(resposta_etapa1)"
   ]
  },
  {
   "cell_type": "markdown",
   "id": "9d394770",
   "metadata": {},
   "source": [
    "Etapa 2: Apresente a média de receita de bilheteria bruta dos principais filmes, considerando todos os atores.\n",
    "____________________________________________________________________________________\n",
    "\n",
    "Para resolução dessa etapa percorri a lista registros para somar os valores da coluna gross, usei replace() para remover os símbolos de dólar e vírgulas, e converti o valor para float. Para cada iteração acumulei o total em soma_gross e aumentei o contador. Após o loop, calculei a média dividindo a soma pelo número total de registros, no final formatei a média com duas casas decimais e salvei o resultado no arquivo etapa-2.txt."
   ]
  },
  {
   "cell_type": "code",
   "execution_count": 23,
   "id": "03c74840",
   "metadata": {},
   "outputs": [],
   "source": [
    "soma_gross = 0\n",
    "contador = 0\n",
    "\n",
    "for registro in registros:\n",
    "    gross = float(registro[5].replace('$','').replace(',',''))\n",
    "    soma_gross += gross\n",
    "    contador += 1\n",
    "\n",
    "media = soma_gross / contador\n",
    "resposta_etapa2 = f\"A média de receita de bilheteria bruta dos principais filmes é ${media:.2f} milhões.\"\n",
    "\n",
    "with open(\"etapa-2.txt\", \"w\", encoding='utf-8') as arquivo_saida:\n",
    "    arquivo_saida.write(resposta_etapa2)"
   ]
  },
  {
   "cell_type": "markdown",
   "id": "50f94cc0",
   "metadata": {},
   "source": [
    "Etapa 3: Apresente o ator/atriz com a maior média de receita de bilheteria bruta por filme do conjunto de dados.\n",
    "____________________________________________________________________________________\n",
    "\n",
    "Nessa etapa 3, percorri a lista registros para identificar o ator/atriz com a maior média de bilheteria por filme, utilizando a coluna Average per Movie, assim, removi os símbolos de dólar e vírgulas com replace() e converti o valor para float. A cada iteração, comparei o valor com a maior média registrada até o momento e, se fosse maior, atualizava as variáveis correspondentes a pessoa e à média, finalizei imprimindo a mensagem formatada com duas casas decimais e salvando o resultado no arquivo etapa-3.txt."
   ]
  },
  {
   "cell_type": "code",
   "execution_count": 27,
   "id": "811952ee",
   "metadata": {},
   "outputs": [],
   "source": [
    "maior_media = 0\n",
    "pessoa_maior_media = \"\"\n",
    "\n",
    "for registro in registros:\n",
    "    ator = registro[0]\n",
    "    media = float(registro[3].replace('$','').replace(',',''))\n",
    "    \n",
    "    if media > maior_media:\n",
    "        maior_media = media\n",
    "        pessoa_maior_media = ator\n",
    "\n",
    "resposta_etapa3 = f\"Ator/Atriz com a maior média de receita de bilheteria bruta por filme do conjunto de dados é {pessoa_maior_media} com ${maior_media:.2f} milhões por filme.\"\n",
    "\n",
    "with open(\"etapa-3.txt\", \"w\", encoding='utf-8') as arquivo_saida:\n",
    "    arquivo_saida.write(resposta_etapa3)"
   ]
  },
  {
   "cell_type": "markdown",
   "id": "1e8874bb",
   "metadata": {},
   "source": [
    "Etapa 4: A coluna #1 Movie contém o filme de maior bilheteria em que o ator atuou. Realize a contagem de aparições destes filmes no dataset, listando-os ordenados pela quantidade de vezes em que estão presentes. Considere a ordem decrescente e, em segundo nível, o nome do filme.\n",
    "____________________________________________________________________________________\n",
    "\n",
    "Para resolver essa etapa utilizei defaultdict para contar quantas vezes cada filme aparece na coluna #1 Movie, e para cada linha da lista registros, acessei o valor da coluna e incrementei o contador correspondente.  Após isso, ordenei os filmes usando a função sorted(), com uma função lambda que inicialmente ordena pela quantidade de aparições de forma decrescente e, em caso de empate, ordena pelo nome dos filmes, finalizei imprimindo no arquivo etapa-4.txt cada resultado no formato solicitado."
   ]
  },
  {
   "cell_type": "code",
   "execution_count": 30,
   "id": "62adf754",
   "metadata": {},
   "outputs": [],
   "source": [
    "from collections import defaultdict\n",
    "\n",
    "contagem_aparicoes = defaultdict(int)\n",
    "\n",
    "for registro in registros:\n",
    "    filme = registro[4]\n",
    "    contagem_aparicoes[filme] += 1\n",
    "\n",
    "ordenado = sorted(contagem_aparicoes.items(), key=lambda x: (-x[1], x[0]))\n",
    "\n",
    "with open(\"etapa-4.txt\", \"w\", encoding='utf-8') as arquivo_saida:\n",
    "    for filme, quantidade in ordenado:\n",
    "        arquivo_saida.write(f\"O filme {filme} aparece {quantidade} vez(es) no dataset.\\n\")"
   ]
  },
  {
   "cell_type": "markdown",
   "id": "2aa40754",
   "metadata": {},
   "source": [
    "Etapa 5: Apresente a lista dos atores ordenada pela receita bruta de bilheteria de seus filmes (coluna Total Gross), em ordem decrescente.\n",
    "____________________________________________________________________________________\n",
    "\n",
    "Para resolução dessa etapa, criei uma lista (lista_atores) para armazenar tuplas com o nome do ator e o valor da receita total de bilheteria. Assim, percorri os registros extraindo o nome e a receita total, removendo os símbolos de dólar e vírgulas com replace(), e converti o valor para float. Em seguida, ordenei a lista com sorted(), usando lambda que organiza os atores em ordem decrescente de receita. Por fim, imprimi no arquivo etapa-5.txt cada resultado no formato solicitado."
   ]
  },
  {
   "cell_type": "code",
   "execution_count": 32,
   "id": "c0b61dcf",
   "metadata": {},
   "outputs": [],
   "source": [
    "lista_atores = []\n",
    "\n",
    "for registro in registros:\n",
    "    pessoa = registro[0]\n",
    "    total_gross = float(registro[1].replace('$','').replace(',',''))\n",
    "    lista_atores.append((pessoa, total_gross))\n",
    "\n",
    "ordenado = sorted(lista_atores, key=lambda x: -x[1])\n",
    "\n",
    "with open(\"etapa-5.txt\", \"w\", encoding='utf-8') as arquivo_saida:\n",
    "    for pessoa, receita in ordenado:\n",
    "        arquivo_saida.write(f\"{pessoa} - ${receita:.2f}\\n\")"
   ]
  }
 ],
 "metadata": {
  "kernelspec": {
   "display_name": "base",
   "language": "python",
   "name": "python3"
  },
  "language_info": {
   "codemirror_mode": {
    "name": "ipython",
    "version": 3
   },
   "file_extension": ".py",
   "mimetype": "text/x-python",
   "name": "python",
   "nbconvert_exporter": "python",
   "pygments_lexer": "ipython3",
   "version": "3.12.7"
  }
 },
 "nbformat": 4,
 "nbformat_minor": 5
}
