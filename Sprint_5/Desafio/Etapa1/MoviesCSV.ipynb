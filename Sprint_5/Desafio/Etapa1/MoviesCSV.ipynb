{
 "cells": [
  {
   "cell_type": "markdown",
   "id": "2c81b762",
   "metadata": {},
   "source": [
    "###  Análise CSV \n",
    "---"
   ]
  },
  {
   "cell_type": "markdown",
   "id": "70ac26d7",
   "metadata": {},
   "source": [
    "- Inicialmente importei as bibliotecas Pandas, que será usada para carregar, manipular e tratar os dados. Para ler o arquivo e armazená-lo no DataFrame (df), utilizei a biblioteca Pandas e fiz a análise inicial dos dados."
   ]
  },
  {
   "cell_type": "code",
   "execution_count": 1,
   "id": "7df76e65",
   "metadata": {},
   "outputs": [],
   "source": [
    "import pandas as pd"
   ]
  },
  {
   "cell_type": "markdown",
   "id": "7171e9bc",
   "metadata": {},
   "source": [
    "- Fazendo a leitura do arquivo, armazenando no DataFrame e exibindo as 5 primeiras linhas:"
   ]
  },
  {
   "cell_type": "code",
   "execution_count": 2,
   "id": "1ba51bcc",
   "metadata": {},
   "outputs": [
    {
     "data": {
      "text/html": [
       "<div>\n",
       "<style scoped>\n",
       "    .dataframe tbody tr th:only-of-type {\n",
       "        vertical-align: middle;\n",
       "    }\n",
       "\n",
       "    .dataframe tbody tr th {\n",
       "        vertical-align: top;\n",
       "    }\n",
       "\n",
       "    .dataframe thead th {\n",
       "        text-align: right;\n",
       "    }\n",
       "</style>\n",
       "<table border=\"1\" class=\"dataframe\">\n",
       "  <thead>\n",
       "    <tr style=\"text-align: right;\">\n",
       "      <th></th>\n",
       "      <th>id</th>\n",
       "      <th>tituloPincipal</th>\n",
       "      <th>tituloOriginal</th>\n",
       "      <th>anoLancamento</th>\n",
       "      <th>tempoMinutos</th>\n",
       "      <th>genero</th>\n",
       "      <th>notaMedia</th>\n",
       "      <th>numeroVotos</th>\n",
       "      <th>generoArtista</th>\n",
       "      <th>personagem</th>\n",
       "      <th>nomeArtista</th>\n",
       "      <th>anoNascimento</th>\n",
       "      <th>anoFalecimento</th>\n",
       "      <th>profissao</th>\n",
       "      <th>titulosMaisConhecidos</th>\n",
       "    </tr>\n",
       "  </thead>\n",
       "  <tbody>\n",
       "    <tr>\n",
       "      <th>0</th>\n",
       "      <td>tt0000009</td>\n",
       "      <td>Miss Jerry</td>\n",
       "      <td>Miss Jerry</td>\n",
       "      <td>1894.0</td>\n",
       "      <td>45.0</td>\n",
       "      <td>Romance</td>\n",
       "      <td>5.3</td>\n",
       "      <td>200</td>\n",
       "      <td>actress</td>\n",
       "      <td>Miss Geraldine Holbrook (Miss Jerry)</td>\n",
       "      <td>Blanche Bayliss</td>\n",
       "      <td>1878.0</td>\n",
       "      <td>1951.0</td>\n",
       "      <td>actress</td>\n",
       "      <td>tt0000009</td>\n",
       "    </tr>\n",
       "    <tr>\n",
       "      <th>1</th>\n",
       "      <td>tt0000009</td>\n",
       "      <td>Miss Jerry</td>\n",
       "      <td>Miss Jerry</td>\n",
       "      <td>1894.0</td>\n",
       "      <td>45.0</td>\n",
       "      <td>Romance</td>\n",
       "      <td>5.3</td>\n",
       "      <td>200</td>\n",
       "      <td>actor</td>\n",
       "      <td>Mr. Hamilton</td>\n",
       "      <td>William Courtenay</td>\n",
       "      <td>1875.0</td>\n",
       "      <td>1933.0</td>\n",
       "      <td>actor</td>\n",
       "      <td>tt0021535,tt0000009,tt0020355,tt0020403</td>\n",
       "    </tr>\n",
       "    <tr>\n",
       "      <th>2</th>\n",
       "      <td>tt0000009</td>\n",
       "      <td>Miss Jerry</td>\n",
       "      <td>Miss Jerry</td>\n",
       "      <td>1894.0</td>\n",
       "      <td>45.0</td>\n",
       "      <td>Romance</td>\n",
       "      <td>5.3</td>\n",
       "      <td>200</td>\n",
       "      <td>actor</td>\n",
       "      <td>Chauncey Depew - the Director of the New York ...</td>\n",
       "      <td>Chauncey Depew</td>\n",
       "      <td>1834.0</td>\n",
       "      <td>1928.0</td>\n",
       "      <td>actor,writer</td>\n",
       "      <td>tt1076833,tt0490842,tt0000009,tt4484306</td>\n",
       "    </tr>\n",
       "    <tr>\n",
       "      <th>3</th>\n",
       "      <td>tt0000502</td>\n",
       "      <td>Bohemios</td>\n",
       "      <td>Bohemios</td>\n",
       "      <td>1905.0</td>\n",
       "      <td>100.0</td>\n",
       "      <td>NaN</td>\n",
       "      <td>4.2</td>\n",
       "      <td>14</td>\n",
       "      <td>actor</td>\n",
       "      <td>NaN</td>\n",
       "      <td>Antonio del Pozo</td>\n",
       "      <td>NaN</td>\n",
       "      <td>NaN</td>\n",
       "      <td>actor</td>\n",
       "      <td>tt0000502</td>\n",
       "    </tr>\n",
       "    <tr>\n",
       "      <th>4</th>\n",
       "      <td>tt0000502</td>\n",
       "      <td>Bohemios</td>\n",
       "      <td>Bohemios</td>\n",
       "      <td>1905.0</td>\n",
       "      <td>100.0</td>\n",
       "      <td>NaN</td>\n",
       "      <td>4.2</td>\n",
       "      <td>14</td>\n",
       "      <td>actor</td>\n",
       "      <td>NaN</td>\n",
       "      <td>El Mochuelo</td>\n",
       "      <td>NaN</td>\n",
       "      <td>NaN</td>\n",
       "      <td>actor</td>\n",
       "      <td>tt0000502</td>\n",
       "    </tr>\n",
       "  </tbody>\n",
       "</table>\n",
       "</div>"
      ],
      "text/plain": [
       "          id tituloPincipal tituloOriginal  anoLancamento  tempoMinutos  \\\n",
       "0  tt0000009     Miss Jerry     Miss Jerry         1894.0          45.0   \n",
       "1  tt0000009     Miss Jerry     Miss Jerry         1894.0          45.0   \n",
       "2  tt0000009     Miss Jerry     Miss Jerry         1894.0          45.0   \n",
       "3  tt0000502       Bohemios       Bohemios         1905.0         100.0   \n",
       "4  tt0000502       Bohemios       Bohemios         1905.0         100.0   \n",
       "\n",
       "    genero  notaMedia  numeroVotos generoArtista  \\\n",
       "0  Romance        5.3          200       actress   \n",
       "1  Romance        5.3          200         actor   \n",
       "2  Romance        5.3          200         actor   \n",
       "3      NaN        4.2           14         actor   \n",
       "4      NaN        4.2           14         actor   \n",
       "\n",
       "                                          personagem        nomeArtista  \\\n",
       "0               Miss Geraldine Holbrook (Miss Jerry)    Blanche Bayliss   \n",
       "1                                       Mr. Hamilton  William Courtenay   \n",
       "2  Chauncey Depew - the Director of the New York ...     Chauncey Depew   \n",
       "3                                                NaN   Antonio del Pozo   \n",
       "4                                                NaN        El Mochuelo   \n",
       "\n",
       "   anoNascimento  anoFalecimento     profissao  \\\n",
       "0         1878.0          1951.0       actress   \n",
       "1         1875.0          1933.0         actor   \n",
       "2         1834.0          1928.0  actor,writer   \n",
       "3            NaN             NaN         actor   \n",
       "4            NaN             NaN         actor   \n",
       "\n",
       "                     titulosMaisConhecidos  \n",
       "0                                tt0000009  \n",
       "1  tt0021535,tt0000009,tt0020355,tt0020403  \n",
       "2  tt1076833,tt0490842,tt0000009,tt4484306  \n",
       "3                                tt0000502  \n",
       "4                                tt0000502  "
      ]
     },
     "execution_count": 2,
     "metadata": {},
     "output_type": "execute_result"
    }
   ],
   "source": [
    "df = pd.read_csv(\n",
    "    \"movies.csv\",\n",
    "    sep='|',\n",
    "    encoding='utf-8',\n",
    "    na_values='\\\\N'  \n",
    ")\n",
    "\n",
    "df.head()"
   ]
  },
  {
   "cell_type": "markdown",
   "id": "b9ddbda3",
   "metadata": {},
   "source": [
    "- Informações da base (tipos de dados, linhas não nulas, número de entradas):\n"
   ]
  },
  {
   "cell_type": "code",
   "execution_count": 3,
   "id": "d048bcb6",
   "metadata": {},
   "outputs": [
    {
     "name": "stdout",
     "output_type": "stream",
     "text": [
      "<class 'pandas.core.frame.DataFrame'>\n",
      "RangeIndex: 1045161 entries, 0 to 1045160\n",
      "Data columns (total 15 columns):\n",
      " #   Column                 Non-Null Count    Dtype  \n",
      "---  ------                 --------------    -----  \n",
      " 0   id                     1045161 non-null  object \n",
      " 1   tituloPincipal         1045161 non-null  object \n",
      " 2   tituloOriginal         1045161 non-null  object \n",
      " 3   anoLancamento          1044967 non-null  float64\n",
      " 4   tempoMinutos           934144 non-null   float64\n",
      " 5   genero                 1006281 non-null  object \n",
      " 6   notaMedia              1045161 non-null  float64\n",
      " 7   numeroVotos            1045161 non-null  int64  \n",
      " 8   generoArtista          1045161 non-null  object \n",
      " 9   personagem             874211 non-null   object \n",
      " 10  nomeArtista            1045161 non-null  object \n",
      " 11  anoNascimento          652168 non-null   float64\n",
      " 12  anoFalecimento         275565 non-null   float64\n",
      " 13  profissao              1028550 non-null  object \n",
      " 14  titulosMaisConhecidos  1036594 non-null  object \n",
      "dtypes: float64(5), int64(1), object(9)\n",
      "memory usage: 119.6+ MB\n"
     ]
    }
   ],
   "source": [
    "df.info()"
   ]
  },
  {
   "cell_type": "markdown",
   "id": "4eb30b2b",
   "metadata": {},
   "source": [
    "- Conhecendo as dimensões do DataFrame:"
   ]
  },
  {
   "cell_type": "code",
   "execution_count": 4,
   "id": "5ae61fed",
   "metadata": {},
   "outputs": [
    {
     "data": {
      "text/plain": [
       "(1045161, 15)"
      ]
     },
     "execution_count": 4,
     "metadata": {},
     "output_type": "execute_result"
    }
   ],
   "source": [
    "df.shape"
   ]
  },
  {
   "cell_type": "markdown",
   "id": "3c4f3e05",
   "metadata": {},
   "source": []
  },
  {
   "cell_type": "code",
   "execution_count": null,
   "id": "d192a4dc",
   "metadata": {},
   "outputs": [],
   "source": []
  },
  {
   "cell_type": "markdown",
   "id": "b321c0a3",
   "metadata": {},
   "source": []
  },
  {
   "cell_type": "code",
   "execution_count": null,
   "id": "c6458cdc",
   "metadata": {},
   "outputs": [],
   "source": []
  }
 ],
 "metadata": {
  "kernelspec": {
   "display_name": "base",
   "language": "python",
   "name": "python3"
  },
  "language_info": {
   "codemirror_mode": {
    "name": "ipython",
    "version": 3
   },
   "file_extension": ".py",
   "mimetype": "text/x-python",
   "name": "python",
   "nbconvert_exporter": "python",
   "pygments_lexer": "ipython3",
   "version": "3.12.7"
  }
 },
 "nbformat": 4,
 "nbformat_minor": 5
}
