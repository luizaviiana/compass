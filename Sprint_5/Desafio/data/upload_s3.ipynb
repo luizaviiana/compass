{
 "cells": [
  {
   "cell_type": "code",
   "execution_count": null,
   "id": "2dad761b",
   "metadata": {},
   "outputs": [
    {
     "name": "stdout",
     "output_type": "stream",
     "text": [
      "Fazendo upload de movies.csv para s3://data-compass-ana/Raw/Local/CSV/Movies/2025/06/15/movies.csv\n",
      "Upload de movies.csv concluído com sucesso.\n",
      "Fazendo upload de series.csv para s3://data-compass-ana/Raw/Local/CSV/Series/2025/06/15/series.csv\n",
      "Upload de series.csv concluído com sucesso.\n"
     ]
    }
   ],
   "source": [
    "import os\n",
    "import boto3\n",
    "from datetime import datetime\n",
    "from dotenv import load_dotenv\n",
    "\n",
    "load_dotenv()\n",
    "\n",
    "AWS_ACCESS_KEY_ID = os.getenv(\"AWS_ACCESS_KEY_ID\")\n",
    "AWS_SECRET_ACCESS_KEY = os.getenv(\"AWS_SECRET_ACCESS_KEY\")\n",
    "AWS_SESSION_TOKEN = os.getenv(\"AWS_SESSION_TOKEN\")  \n",
    "AWS_REGION = os.getenv(\"AWS_REGION\")\n",
    "BUCKET_NAME = \"data-compass-ana\"\n",
    "\n",
    "today = datetime.today()\n",
    "year = str(today.year)\n",
    "month = f\"{today.month:02d}\"\n",
    "day = f\"{today.day:02d}\"\n",
    "\n",
    "s3 = boto3.client(\n",
    "    \"s3\",\n",
    "    aws_access_key_id=AWS_ACCESS_KEY_ID,\n",
    "    aws_secret_access_key=AWS_SECRET_ACCESS_KEY,\n",
    "    aws_session_token=AWS_SESSION_TOKEN,  \n",
    "    region_name=AWS_REGION\n",
    ")\n",
    "\n",
    "def upload_file_to_s3(file_path, data_type):\n",
    "\n",
    "    file_name = os.path.basename(file_path)\n",
    "\n",
    "    s3_key = f\"Raw/Local/CSV/{data_type}/{year}/{month}/{day}/{file_name}\"\n",
    "\n",
    "    print(f\"Fazendo upload de {file_name} para s3://{BUCKET_NAME}/{s3_key}\")\n",
    "\n",
    "    try:\n",
    "        s3.upload_file(\n",
    "            Filename=file_path,\n",
    "            Bucket=BUCKET_NAME,\n",
    "            Key=s3_key\n",
    "        )\n",
    "        print(f\"Upload de {file_name} concluído com sucesso.\")\n",
    "    except Exception as e:\n",
    "        print(f\"Erro ao enviar {file_name}: {e}\")\n",
    "\n",
    "if __name__ == \"__main__\":\n",
    "    upload_file_to_s3(\"movies.csv\", \"Movies\")\n",
    "    upload_file_to_s3(\"series.csv\", \"Series\")\n"
   ]
  }
 ],
 "metadata": {
  "kernelspec": {
   "display_name": "base",
   "language": "python",
   "name": "python3"
  },
  "language_info": {
   "codemirror_mode": {
    "name": "ipython",
    "version": 3
   },
   "file_extension": ".py",
   "mimetype": "text/x-python",
   "name": "python",
   "nbconvert_exporter": "python",
   "pygments_lexer": "ipython3",
   "version": "3.12.7"
  }
 },
 "nbformat": 4,
 "nbformat_minor": 5
}
