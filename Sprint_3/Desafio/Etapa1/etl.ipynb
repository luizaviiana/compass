{
 "cells": [
  {
   "cell_type": "markdown",
   "id": "3e128ac8",
   "metadata": {},
   "source": [
    "###  Desafio 🚀\n",
    "---"
   ]
  },
  {
   "cell_type": "markdown",
   "id": "6ecda2e9",
   "metadata": {},
   "source": [
    "Nessa etapa do desafio, será realizada a leitura de um arquivo oriundo de webscraping, o csv \"concert_tours_by_women.csv\" em que possui dados referentes às turnês de cantoras. Assim, será feito um tratamento de dados inicial para posteriormente analisar as informações contidas no mesmo. Seguirei uma sequência de ações nas quais estarei detalhando um pouco mais sobre os códigos que usei para execução dos passos.\n",
    "   "
   ]
  },
  {
   "cell_type": "markdown",
   "id": "d1a63fcc",
   "metadata": {},
   "source": [
    "Análise inicial\n",
    "__________________________________________________________________________________________________\n",
    "Inicialmente importei as bibliotecas Pandas, que será usada para carregar, manipular e tratar os dados, e Re, que oferece suporte a expressões regulares para limpeza textual avançada. Para ler o arquivo e armazená-lo no DataFrame (df), utilizei a biblioteca Pandas e fiz a análise inicial dos dados."
   ]
  },
  {
   "cell_type": "code",
   "execution_count": null,
   "id": "7a91f6dc",
   "metadata": {},
   "outputs": [],
   "source": [
    "import pandas as pd\n",
    "\n",
    "df = pd.read_csv(\"concert_tours_by_women.csv\") "
   ]
  },
  {
   "cell_type": "markdown",
   "id": "de9808e2",
   "metadata": {},
   "source": [
    "- Visualizando melhor as primeiras linhas para entender um pouco mais sobre as colunas e como os dados estão organizados:"
   ]
  },
  {
   "cell_type": "code",
   "execution_count": 2,
   "id": "1f331de0",
   "metadata": {},
   "outputs": [
    {
     "data": {
      "text/html": [
       "<div>\n",
       "<style scoped>\n",
       "    .dataframe tbody tr th:only-of-type {\n",
       "        vertical-align: middle;\n",
       "    }\n",
       "\n",
       "    .dataframe tbody tr th {\n",
       "        vertical-align: top;\n",
       "    }\n",
       "\n",
       "    .dataframe thead th {\n",
       "        text-align: right;\n",
       "    }\n",
       "</style>\n",
       "<table border=\"1\" class=\"dataframe\">\n",
       "  <thead>\n",
       "    <tr style=\"text-align: right;\">\n",
       "      <th></th>\n",
       "      <th>Rank</th>\n",
       "      <th>Peak</th>\n",
       "      <th>All Time Peak</th>\n",
       "      <th>Actual gross</th>\n",
       "      <th>Adjustedgross (in 2022 dollars)</th>\n",
       "      <th>Artist</th>\n",
       "      <th>Tour title</th>\n",
       "      <th>Year(s)</th>\n",
       "      <th>Shows</th>\n",
       "      <th>Average gross</th>\n",
       "      <th>Ref.</th>\n",
       "    </tr>\n",
       "  </thead>\n",
       "  <tbody>\n",
       "    <tr>\n",
       "      <th>0</th>\n",
       "      <td>1</td>\n",
       "      <td>1</td>\n",
       "      <td>2</td>\n",
       "      <td>$780,000,000</td>\n",
       "      <td>$780,000,000</td>\n",
       "      <td>Taylor Swift</td>\n",
       "      <td>The Eras Tour †</td>\n",
       "      <td>2023-2024</td>\n",
       "      <td>56</td>\n",
       "      <td>$13,928,571</td>\n",
       "      <td>[1]</td>\n",
       "    </tr>\n",
       "    <tr>\n",
       "      <th>1</th>\n",
       "      <td>2</td>\n",
       "      <td>1</td>\n",
       "      <td>7[2]</td>\n",
       "      <td>$579,800,000</td>\n",
       "      <td>$579,800,000</td>\n",
       "      <td>Beyoncé</td>\n",
       "      <td>Renaissance World Tour</td>\n",
       "      <td>2023</td>\n",
       "      <td>56</td>\n",
       "      <td>$10,353,571</td>\n",
       "      <td>[3]</td>\n",
       "    </tr>\n",
       "    <tr>\n",
       "      <th>2</th>\n",
       "      <td>3</td>\n",
       "      <td>1[4]</td>\n",
       "      <td>2[5]</td>\n",
       "      <td>$411,000,000</td>\n",
       "      <td>$560,622,615</td>\n",
       "      <td>Madonna</td>\n",
       "      <td>Sticky &amp; Sweet Tour ‡[4][a]</td>\n",
       "      <td>2008-2009</td>\n",
       "      <td>85</td>\n",
       "      <td>$4,835,294</td>\n",
       "      <td>[6]</td>\n",
       "    </tr>\n",
       "    <tr>\n",
       "      <th>3</th>\n",
       "      <td>4</td>\n",
       "      <td>2[7]</td>\n",
       "      <td>10[7]</td>\n",
       "      <td>$397,300,000</td>\n",
       "      <td>$454,751,555</td>\n",
       "      <td>Pink</td>\n",
       "      <td>Beautiful Trauma World Tour</td>\n",
       "      <td>2018-2019</td>\n",
       "      <td>156</td>\n",
       "      <td>$2,546,795</td>\n",
       "      <td>[7]</td>\n",
       "    </tr>\n",
       "    <tr>\n",
       "      <th>4</th>\n",
       "      <td>5</td>\n",
       "      <td>2[4]</td>\n",
       "      <td>NaN</td>\n",
       "      <td>$345,675,146</td>\n",
       "      <td>$402,844,849</td>\n",
       "      <td>Taylor Swift</td>\n",
       "      <td>Reputation Stadium Tour</td>\n",
       "      <td>2018</td>\n",
       "      <td>53</td>\n",
       "      <td>$6,522,173</td>\n",
       "      <td>[8]</td>\n",
       "    </tr>\n",
       "  </tbody>\n",
       "</table>\n",
       "</div>"
      ],
      "text/plain": [
       "   Rank  Peak All Time Peak  Actual gross Adjustedgross (in 2022 dollars)  \\\n",
       "0     1     1             2  $780,000,000                    $780,000,000   \n",
       "1     2     1          7[2]  $579,800,000                    $579,800,000   \n",
       "2     3  1[4]          2[5]  $411,000,000                    $560,622,615   \n",
       "3     4  2[7]         10[7]  $397,300,000                    $454,751,555   \n",
       "4     5  2[4]           NaN  $345,675,146                    $402,844,849   \n",
       "\n",
       "         Artist                   Tour title    Year(s)  Shows Average gross  \\\n",
       "0  Taylor Swift              The Eras Tour †  2023-2024     56   $13,928,571   \n",
       "1       Beyoncé       Renaissance World Tour       2023     56   $10,353,571   \n",
       "2       Madonna  Sticky & Sweet Tour ‡[4][a]  2008-2009     85    $4,835,294   \n",
       "3          Pink  Beautiful Trauma World Tour  2018-2019    156    $2,546,795   \n",
       "4  Taylor Swift      Reputation Stadium Tour       2018     53    $6,522,173   \n",
       "\n",
       "  Ref.  \n",
       "0  [1]  \n",
       "1  [3]  \n",
       "2  [6]  \n",
       "3  [7]  \n",
       "4  [8]  "
      ]
     },
     "execution_count": 2,
     "metadata": {},
     "output_type": "execute_result"
    }
   ],
   "source": [
    "df.head()"
   ]
  },
  {
   "cell_type": "markdown",
   "id": "d23eb091",
   "metadata": {},
   "source": [
    "- Conhecendo as dimensões do DataFrame:"
   ]
  },
  {
   "cell_type": "code",
   "execution_count": 3,
   "id": "691151be",
   "metadata": {},
   "outputs": [
    {
     "data": {
      "text/plain": [
       "(20, 11)"
      ]
     },
     "execution_count": 3,
     "metadata": {},
     "output_type": "execute_result"
    }
   ],
   "source": [
    "df.shape"
   ]
  },
  {
   "cell_type": "markdown",
   "id": "b6b1abf2",
   "metadata": {},
   "source": [
    "- Visualizando os valores vazios:"
   ]
  },
  {
   "cell_type": "code",
   "execution_count": 5,
   "id": "9ec9deb3",
   "metadata": {},
   "outputs": [
    {
     "data": {
      "text/plain": [
       "Rank                                0\n",
       "Peak                               11\n",
       "All Time Peak                      14\n",
       "Actual gross                        0\n",
       "Adjustedgross (in 2022 dollars)     0\n",
       "Artist                              0\n",
       "Tour title                          0\n",
       "Year(s)                             0\n",
       "Shows                               0\n",
       "Average gross                       0\n",
       "Ref.                                0\n",
       "dtype: int64"
      ]
     },
     "execution_count": 5,
     "metadata": {},
     "output_type": "execute_result"
    }
   ],
   "source": [
    "df.isnull().sum()"
   ]
  },
  {
   "cell_type": "markdown",
   "id": "72db7f22",
   "metadata": {},
   "source": [
    "- Informações da base (tipos de dados, linhas não nulas, número de entradas):"
   ]
  },
  {
   "cell_type": "code",
   "execution_count": 4,
   "id": "b61b0161",
   "metadata": {},
   "outputs": [
    {
     "name": "stdout",
     "output_type": "stream",
     "text": [
      "<class 'pandas.core.frame.DataFrame'>\n",
      "RangeIndex: 20 entries, 0 to 19\n",
      "Data columns (total 11 columns):\n",
      " #   Column                           Non-Null Count  Dtype \n",
      "---  ------                           --------------  ----- \n",
      " 0   Rank                             20 non-null     int64 \n",
      " 1   Peak                             9 non-null      object\n",
      " 2   All Time Peak                    6 non-null      object\n",
      " 3   Actual gross                     20 non-null     object\n",
      " 4   Adjustedgross (in 2022 dollars)  20 non-null     object\n",
      " 5   Artist                           20 non-null     object\n",
      " 6   Tour title                       20 non-null     object\n",
      " 7   Year(s)                          20 non-null     object\n",
      " 8   Shows                            20 non-null     int64 \n",
      " 9   Average gross                    20 non-null     object\n",
      " 10  Ref.                             20 non-null     object\n",
      "dtypes: int64(2), object(9)\n",
      "memory usage: 1.8+ KB\n"
     ]
    }
   ],
   "source": [
    "df.info()"
   ]
  },
  {
   "cell_type": "markdown",
   "id": "5f0ed706",
   "metadata": {},
   "source": [
    "Tratamento de Dados\n",
    "__________________________________________________________________________________________________\n",
    "Após a análise inicial dos dados e compreendendo um pouco mais sobre a nossa base seguirei com o tratamento de dados. Inicialmente, removi as colunas que não seriam utilizadas no projeto, como Peak, All Time Peak e Ref, utilizando o método .drop(), passando o parâmetro columns com os nomes das colunas. Em seguida, renomeei as colunas restantes com nomes padronizados, usando o atributo .columns com uma nova lista de nomes."
   ]
  },
  {
   "cell_type": "code",
   "execution_count": 6,
   "id": "a40570ae",
   "metadata": {},
   "outputs": [],
   "source": [
    "df = df.drop(columns=[\"Peak\", \"All Time Peak\", \"Ref.\"])\n",
    "\n",
    "df.columns = [\n",
    "    \"Rank\",\n",
    "    \"Actual gross\",\n",
    "    \"Adjusted gross (in 2022 dollars)\",\n",
    "    \"Artist\",\n",
    "    \"Tour title\",\n",
    "    \"Year(s)\",\n",
    "    \"Shows\",\n",
    "    \"Average gross\"\n",
    "]"
   ]
  },
  {
   "cell_type": "markdown",
   "id": "d15ef032",
   "metadata": {},
   "source": [
    "Na etapa de limpeza dos valores monetários, selecionei as colunas \"Actual gross\", \"Adjusted gross (in 2022 dollars)\" e \"Average gross\", pois elas continham símbolos como cifrão ($), vírgula (,) e referências entre colchetes ([1], [b]). Usei .replace() com expressões regulares para remover esses caracteres e, em seguida, converti os valores para o tipo float com .astype(float), garantindo que os dados estivessem em formato numérico."
   ]
  },
  {
   "cell_type": "code",
   "execution_count": 7,
   "id": "32693670",
   "metadata": {},
   "outputs": [],
   "source": [
    "monetary_columns = [\"Actual gross\", \"Adjusted gross (in 2022 dollars)\", \"Average gross\"]\n",
    "for col in monetary_columns:\n",
    "    df[col] = df[col].replace(r'\\[.*?\\]', '', regex=True)  \n",
    "    df[col] = df[col].replace(r'[\\$,]', '', regex=True)      \n",
    "    df[col] = df[col].astype(float)   "
   ]
  },
  {
   "cell_type": "markdown",
   "id": "92204a32",
   "metadata": {},
   "source": [
    "Depois disso, iniciei a limpeza das colunas de texto \"Artist\" e \"Tour title\". Utilizei expressões regulares novamente para remover qualquer conteúdo entre colchetes ([...]), símbolos especiais como †, ‡, §, pontuações como *, :, ., ?, !, ,, e também substituí o caractere & por \"and\", com o objetivo de padronizar os nomes e facilitar análises posteriores. Também adicionei comandos para remover espaços duplicados com .str.replace(r'\\s{2,}', ' ', regex=True) e espaços desnecessários nas bordas com .str.strip()."
   ]
  },
  {
   "cell_type": "code",
   "execution_count": 8,
   "id": "80bca74b",
   "metadata": {},
   "outputs": [],
   "source": [
    "text_columns = [\"Artist\", \"Tour title\"]\n",
    "for col in text_columns:\n",
    "    df[col] = df[col].replace(r'\\[.*?\\]', '', regex=True)            \n",
    "    df[col] = df[col].replace(r'[†‡§]', '', regex=True)             \n",
    "    df[col] = df[col].replace(r'[*:.\\?!,]', '', regex=True)         \n",
    "    df[col] = df[col].str.replace('&', 'and')                        \n",
    "    df[col] = df[col].str.replace(r'\\s{2,}', ' ', regex=True)        \n",
    "    df[col] = df[col].str.strip()      "
   ]
  },
  {
   "cell_type": "markdown",
   "id": "c487386e",
   "metadata": {},
   "source": [
    "A seguir, tratei a coluna \"Year(s)\", que contém intervalos de anos no formato \"2008-2009\" ou apenas um ano como \"2023\". Usei .str.split('-', expand=True) para separar em duas colunas: \"Start year\" e \"End year\". Quando não havia ano final, preenchi a coluna \"End year\" com o mesmo valor do início usando .fillna()."
   ]
  },
  {
   "cell_type": "code",
   "execution_count": 9,
   "id": "100b5136",
   "metadata": {},
   "outputs": [],
   "source": [
    "df[[\"Start year\", \"End year\"]] = df[\"Year(s)\"].str.split('-', expand=True)\n",
    "df[\"End year\"] = df[\"End year\"].fillna(df[\"Start year\"])  \n",
    "df = df.drop(columns=[\"Year(s)\"])"
   ]
  },
  {
   "cell_type": "markdown",
   "id": "59885acc",
   "metadata": {},
   "source": [
    "Em seguida, reorganizei a ordem das colunas do DataFrame para seguir o padrão exigido no desafio, usando uma nova lista com a sequência desejada. "
   ]
  },
  {
   "cell_type": "code",
   "execution_count": 11,
   "id": "e5039152",
   "metadata": {},
   "outputs": [],
   "source": [
    "df = df[[\n",
    "    \"Rank\", \"Actual gross\", \"Adjusted gross (in 2022 dollars)\",\n",
    "    \"Artist\", \"Tour title\", \"Shows\", \"Average gross\", \"Start year\", \"End year\"\n",
    "]]"
   ]
  },
  {
   "cell_type": "markdown",
   "id": "79fb2fe4",
   "metadata": {},
   "source": [
    "Por fim, exportei o DataFrame já limpo e formatado para um novo arquivo chamado csv_limpo.csv, utilizando a função .to_csv() com index=False para evitar que o índice numérico do pandas fosse salvo no arquivo."
   ]
  },
  {
   "cell_type": "code",
   "execution_count": null,
   "id": "5fb700d4",
   "metadata": {},
   "outputs": [],
   "source": [
    "df.to_csv(\"csv_limpo.csv\", index=False)"
   ]
  }
 ],
 "metadata": {
  "kernelspec": {
   "display_name": "base",
   "language": "python",
   "name": "python3"
  },
  "language_info": {
   "codemirror_mode": {
    "name": "ipython",
    "version": 3
   },
   "file_extension": ".py",
   "mimetype": "text/x-python",
   "name": "python",
   "nbconvert_exporter": "python",
   "pygments_lexer": "ipython3",
   "version": "3.12.7"
  }
 },
 "nbformat": 4,
 "nbformat_minor": 5
}
