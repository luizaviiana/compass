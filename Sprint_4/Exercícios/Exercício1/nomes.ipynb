{
 "cells": [
  {
   "cell_type": "markdown",
   "id": "74d1694b",
   "metadata": {},
   "source": [
    "Análise inicial\n",
    "__________________________________________________________________________________________________\n",
    "Inicialmente importei as bibliotecas Pandas, que será usada para carregar, manipular e tratar os dados. Para ler o arquivo e armazená-lo no DataFrame (df), utilizei a biblioteca Pandas e fiz a análise inicial dos dados."
   ]
  },
  {
   "cell_type": "code",
   "execution_count": 2,
   "id": "aef2959b",
   "metadata": {},
   "outputs": [],
   "source": [
    "import pandas as pd"
   ]
  },
  {
   "cell_type": "markdown",
   "id": "ce31f3f4",
   "metadata": {},
   "source": [
    "- Fazendo a leitura do arquivo e armazenando no DataFrame:"
   ]
  },
  {
   "cell_type": "code",
   "execution_count": 3,
   "id": "b078d598",
   "metadata": {},
   "outputs": [],
   "source": [
    "df = pd.read_csv('nomes.csv')"
   ]
  },
  {
   "cell_type": "markdown",
   "id": "45172e2d",
   "metadata": {},
   "source": [
    "- Visualizando melhor as primeiras linhas para entender um pouco mais sobre as colunas e como os dados estão organizados:"
   ]
  },
  {
   "cell_type": "code",
   "execution_count": 4,
   "id": "de3023cb",
   "metadata": {},
   "outputs": [
    {
     "data": {
      "text/html": [
       "<div>\n",
       "<style scoped>\n",
       "    .dataframe tbody tr th:only-of-type {\n",
       "        vertical-align: middle;\n",
       "    }\n",
       "\n",
       "    .dataframe tbody tr th {\n",
       "        vertical-align: top;\n",
       "    }\n",
       "\n",
       "    .dataframe thead th {\n",
       "        text-align: right;\n",
       "    }\n",
       "</style>\n",
       "<table border=\"1\" class=\"dataframe\">\n",
       "  <thead>\n",
       "    <tr style=\"text-align: right;\">\n",
       "      <th></th>\n",
       "      <th>nome</th>\n",
       "      <th>sexo</th>\n",
       "      <th>total</th>\n",
       "      <th>ano</th>\n",
       "    </tr>\n",
       "  </thead>\n",
       "  <tbody>\n",
       "    <tr>\n",
       "      <th>0</th>\n",
       "      <td>Jennifer</td>\n",
       "      <td>F</td>\n",
       "      <td>54336</td>\n",
       "      <td>1983</td>\n",
       "    </tr>\n",
       "    <tr>\n",
       "      <th>1</th>\n",
       "      <td>Jessica</td>\n",
       "      <td>F</td>\n",
       "      <td>45278</td>\n",
       "      <td>1983</td>\n",
       "    </tr>\n",
       "    <tr>\n",
       "      <th>2</th>\n",
       "      <td>Amanda</td>\n",
       "      <td>F</td>\n",
       "      <td>33752</td>\n",
       "      <td>1983</td>\n",
       "    </tr>\n",
       "    <tr>\n",
       "      <th>3</th>\n",
       "      <td>Ashley</td>\n",
       "      <td>F</td>\n",
       "      <td>33292</td>\n",
       "      <td>1983</td>\n",
       "    </tr>\n",
       "    <tr>\n",
       "      <th>4</th>\n",
       "      <td>Sarah</td>\n",
       "      <td>F</td>\n",
       "      <td>27228</td>\n",
       "      <td>1983</td>\n",
       "    </tr>\n",
       "  </tbody>\n",
       "</table>\n",
       "</div>"
      ],
      "text/plain": [
       "       nome sexo  total   ano\n",
       "0  Jennifer    F  54336  1983\n",
       "1   Jessica    F  45278  1983\n",
       "2    Amanda    F  33752  1983\n",
       "3    Ashley    F  33292  1983\n",
       "4     Sarah    F  27228  1983"
      ]
     },
     "execution_count": 4,
     "metadata": {},
     "output_type": "execute_result"
    }
   ],
   "source": [
    "df.head()"
   ]
  },
  {
   "cell_type": "markdown",
   "id": "13411cad",
   "metadata": {},
   "source": [
    "- Conhecendo as dimensões do DataFrame:"
   ]
  },
  {
   "cell_type": "code",
   "execution_count": 5,
   "id": "1c5ec322",
   "metadata": {},
   "outputs": [
    {
     "data": {
      "text/plain": [
       "(1825433, 4)"
      ]
     },
     "execution_count": 5,
     "metadata": {},
     "output_type": "execute_result"
    }
   ],
   "source": [
    "df.shape"
   ]
  },
  {
   "cell_type": "markdown",
   "id": "401593bc",
   "metadata": {},
   "source": [
    "- Informações da base (tipos de dados, linhas não nulas, número de entradas):"
   ]
  },
  {
   "cell_type": "code",
   "execution_count": 6,
   "id": "918cc284",
   "metadata": {},
   "outputs": [
    {
     "name": "stdout",
     "output_type": "stream",
     "text": [
      "<class 'pandas.core.frame.DataFrame'>\n",
      "RangeIndex: 1825433 entries, 0 to 1825432\n",
      "Data columns (total 4 columns):\n",
      " #   Column  Dtype \n",
      "---  ------  ----- \n",
      " 0   nome    object\n",
      " 1   sexo    object\n",
      " 2   total   int64 \n",
      " 3   ano     int64 \n",
      "dtypes: int64(2), object(2)\n",
      "memory usage: 55.7+ MB\n"
     ]
    }
   ],
   "source": [
    "df.info()"
   ]
  }
 ],
 "metadata": {
  "kernelspec": {
   "display_name": "base",
   "language": "python",
   "name": "python3"
  },
  "language_info": {
   "codemirror_mode": {
    "name": "ipython",
    "version": 3
   },
   "file_extension": ".py",
   "mimetype": "text/x-python",
   "name": "python",
   "nbconvert_exporter": "python",
   "pygments_lexer": "ipython3",
   "version": "3.12.7"
  }
 },
 "nbformat": 4,
 "nbformat_minor": 5
}
