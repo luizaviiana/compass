{
 "cells": [
  {
   "cell_type": "markdown",
   "id": "39962b0b",
   "metadata": {},
   "source": [
    "###  Desafio - Etapa1 🚀\n",
    "---"
   ]
  },
  {
   "cell_type": "markdown",
   "id": "bbdc079e",
   "metadata": {},
   "source": [
    "Nessa etapa do desafio, será realizada a leitura de um arquivo oriundo do portal de dados públicos do Governo Brasileiro, o csv \"chegadas_2024.csv\" em que reúne dados relativos às estimativas do fluxo de chegadas de turistas internacionais (incluindo turistas estrangeiros e brasileiros que residem no exterior) ao Brasil, desagregadas por país de residência permanente, por mês e via de acesso (aérea, terrestre, marítima ou fluvial). Assim, será feito um tratamento de dados inicial para posteriormente analisar as informações contidas no mesmo. Seguirei uma sequência de ações nas quais estarei detalhando um pouco mais sobre os códigos que usei para execução dos passos."
   ]
  },
  {
   "cell_type": "markdown",
   "id": "f614f0a4",
   "metadata": {},
   "source": [
    "Análise inicial\n",
    "__________________________________________________________________________________________________\n",
    "Inicialmente importei a biblioteca pandas para análise e tratamento dos dados, durante a análise inicial do conjunto de dados chegadas_2024.csv, ao tentar carregá-lo com pd.read_csv(), ocorreu um erro relacionado à codificação do arquivo. Para identificar o encoding correto, utilizei a biblioteca chardet, que indicou a codificação 'ISO-8859-1'. Após ajustar o parâmetro de codificação, ainda enfrentei um erro de tokenização devido ao separador de colunas, que não era a vírgula padrão. Especificando o separador como ';', foi possível realizar a leitura correta do arquivo e visualizar suas primeiras entradas e informações gerais.\n",
    "\n",
    "Além disso, importei as bibliotecas boto3 e botocore.exceptions para realizar operações com o serviço Amazon S3, como a criação do bucket e o envio de arquivos para a nuvem. Também utilizei dotenv para carregar variáveis de ambiente armazenadas no arquivo .env, garantindo segurança e flexibilidade na autenticação, a biblioteca os também foi utilizada para acessar essas variáveis carregadas."
   ]
  },
  {
   "cell_type": "code",
   "execution_count": 8,
   "id": "e43e84b7",
   "metadata": {},
   "outputs": [],
   "source": [
    "import pandas as pd\n",
    "import chardet\n",
    "import boto3\n",
    "import os\n",
    "\n",
    "from botocore.exceptions import ClientError\n",
    "from dotenv import load_dotenv"
   ]
  },
  {
   "cell_type": "code",
   "execution_count": 2,
   "id": "d0162ed9",
   "metadata": {},
   "outputs": [
    {
     "name": "stdout",
     "output_type": "stream",
     "text": [
      "{'encoding': 'ISO-8859-1', 'confidence': 0.73, 'language': ''}\n"
     ]
    }
   ],
   "source": [
    "with open('chegadas_2024.csv', 'rb') as f:\n",
    "    result = chardet.detect(f.read(10000))\n",
    "    print(result)"
   ]
  },
  {
   "cell_type": "code",
   "execution_count": 3,
   "id": "e7244945",
   "metadata": {},
   "outputs": [],
   "source": [
    "df = pd.read_csv('chegadas_2024.csv', encoding='ISO-8859-1', sep=';')\n"
   ]
  },
  {
   "cell_type": "code",
   "execution_count": 16,
   "id": "8bf10a20",
   "metadata": {},
   "outputs": [
    {
     "data": {
      "text/html": [
       "<div>\n",
       "<style scoped>\n",
       "    .dataframe tbody tr th:only-of-type {\n",
       "        vertical-align: middle;\n",
       "    }\n",
       "\n",
       "    .dataframe tbody tr th {\n",
       "        vertical-align: top;\n",
       "    }\n",
       "\n",
       "    .dataframe thead th {\n",
       "        text-align: right;\n",
       "    }\n",
       "</style>\n",
       "<table border=\"1\" class=\"dataframe\">\n",
       "  <thead>\n",
       "    <tr style=\"text-align: right;\">\n",
       "      <th></th>\n",
       "      <th>Continente</th>\n",
       "      <th>cod continente</th>\n",
       "      <th>País</th>\n",
       "      <th>cod pais</th>\n",
       "      <th>UF</th>\n",
       "      <th>cod uf</th>\n",
       "      <th>Via</th>\n",
       "      <th>cod via</th>\n",
       "      <th>ano</th>\n",
       "      <th>Mês</th>\n",
       "      <th>cod mes</th>\n",
       "      <th>Chegadas</th>\n",
       "    </tr>\n",
       "  </thead>\n",
       "  <tbody>\n",
       "    <tr>\n",
       "      <th>0</th>\n",
       "      <td>Europa</td>\n",
       "      <td>6</td>\n",
       "      <td>Alemanha</td>\n",
       "      <td>57</td>\n",
       "      <td>Outras Unidades da Federação</td>\n",
       "      <td>99</td>\n",
       "      <td>Aérea</td>\n",
       "      <td>1</td>\n",
       "      <td>2024</td>\n",
       "      <td>Janeiro</td>\n",
       "      <td>1</td>\n",
       "      <td>10</td>\n",
       "    </tr>\n",
       "    <tr>\n",
       "      <th>1</th>\n",
       "      <td>América do Sul</td>\n",
       "      <td>4</td>\n",
       "      <td>Argentina</td>\n",
       "      <td>26</td>\n",
       "      <td>Outras Unidades da Federação</td>\n",
       "      <td>99</td>\n",
       "      <td>Aérea</td>\n",
       "      <td>1</td>\n",
       "      <td>2024</td>\n",
       "      <td>Janeiro</td>\n",
       "      <td>1</td>\n",
       "      <td>1197</td>\n",
       "    </tr>\n",
       "    <tr>\n",
       "      <th>2</th>\n",
       "      <td>Europa</td>\n",
       "      <td>6</td>\n",
       "      <td>Bélgica</td>\n",
       "      <td>59</td>\n",
       "      <td>Outras Unidades da Federação</td>\n",
       "      <td>99</td>\n",
       "      <td>Aérea</td>\n",
       "      <td>1</td>\n",
       "      <td>2024</td>\n",
       "      <td>Janeiro</td>\n",
       "      <td>1</td>\n",
       "      <td>3</td>\n",
       "    </tr>\n",
       "    <tr>\n",
       "      <th>3</th>\n",
       "      <td>América do Norte</td>\n",
       "      <td>3</td>\n",
       "      <td>Canadá</td>\n",
       "      <td>23</td>\n",
       "      <td>Outras Unidades da Federação</td>\n",
       "      <td>99</td>\n",
       "      <td>Aérea</td>\n",
       "      <td>1</td>\n",
       "      <td>2024</td>\n",
       "      <td>Janeiro</td>\n",
       "      <td>1</td>\n",
       "      <td>2</td>\n",
       "    </tr>\n",
       "    <tr>\n",
       "      <th>4</th>\n",
       "      <td>América do Sul</td>\n",
       "      <td>4</td>\n",
       "      <td>Chile</td>\n",
       "      <td>28</td>\n",
       "      <td>Outras Unidades da Federação</td>\n",
       "      <td>99</td>\n",
       "      <td>Aérea</td>\n",
       "      <td>1</td>\n",
       "      <td>2024</td>\n",
       "      <td>Janeiro</td>\n",
       "      <td>1</td>\n",
       "      <td>1</td>\n",
       "    </tr>\n",
       "  </tbody>\n",
       "</table>\n",
       "</div>"
      ],
      "text/plain": [
       "         Continente  cod continente       País  cod pais  \\\n",
       "0            Europa               6   Alemanha        57   \n",
       "1    América do Sul               4  Argentina        26   \n",
       "2            Europa               6    Bélgica        59   \n",
       "3  América do Norte               3     Canadá        23   \n",
       "4    América do Sul               4      Chile        28   \n",
       "\n",
       "                             UF  cod uf    Via  cod via   ano      Mês  \\\n",
       "0  Outras Unidades da Federação      99  Aérea        1  2024  Janeiro   \n",
       "1  Outras Unidades da Federação      99  Aérea        1  2024  Janeiro   \n",
       "2  Outras Unidades da Federação      99  Aérea        1  2024  Janeiro   \n",
       "3  Outras Unidades da Federação      99  Aérea        1  2024  Janeiro   \n",
       "4  Outras Unidades da Federação      99  Aérea        1  2024  Janeiro   \n",
       "\n",
       "   cod mes  Chegadas  \n",
       "0        1        10  \n",
       "1        1      1197  \n",
       "2        1         3  \n",
       "3        1         2  \n",
       "4        1         1  "
      ]
     },
     "execution_count": 16,
     "metadata": {},
     "output_type": "execute_result"
    }
   ],
   "source": [
    "df.head()"
   ]
  },
  {
   "cell_type": "markdown",
   "id": "6ca68628",
   "metadata": {},
   "source": [
    "- Conhecendo as dimensões do DataFrame:"
   ]
  },
  {
   "cell_type": "code",
   "execution_count": 17,
   "id": "a647a59e",
   "metadata": {},
   "outputs": [
    {
     "data": {
      "text/plain": [
       "(22856, 12)"
      ]
     },
     "execution_count": 17,
     "metadata": {},
     "output_type": "execute_result"
    }
   ],
   "source": [
    "df.shape"
   ]
  },
  {
   "cell_type": "markdown",
   "id": "efeacb6c",
   "metadata": {},
   "source": [
    "- Conhecendo os últimos registros do DataFrame:"
   ]
  },
  {
   "cell_type": "code",
   "execution_count": 18,
   "id": "b2076bc5",
   "metadata": {},
   "outputs": [
    {
     "data": {
      "text/html": [
       "<div>\n",
       "<style scoped>\n",
       "    .dataframe tbody tr th:only-of-type {\n",
       "        vertical-align: middle;\n",
       "    }\n",
       "\n",
       "    .dataframe tbody tr th {\n",
       "        vertical-align: top;\n",
       "    }\n",
       "\n",
       "    .dataframe thead th {\n",
       "        text-align: right;\n",
       "    }\n",
       "</style>\n",
       "<table border=\"1\" class=\"dataframe\">\n",
       "  <thead>\n",
       "    <tr style=\"text-align: right;\">\n",
       "      <th></th>\n",
       "      <th>Continente</th>\n",
       "      <th>cod continente</th>\n",
       "      <th>País</th>\n",
       "      <th>cod pais</th>\n",
       "      <th>UF</th>\n",
       "      <th>cod uf</th>\n",
       "      <th>Via</th>\n",
       "      <th>cod via</th>\n",
       "      <th>ano</th>\n",
       "      <th>Mês</th>\n",
       "      <th>cod mes</th>\n",
       "      <th>Chegadas</th>\n",
       "    </tr>\n",
       "  </thead>\n",
       "  <tbody>\n",
       "    <tr>\n",
       "      <th>22851</th>\n",
       "      <td>Europa</td>\n",
       "      <td>6</td>\n",
       "      <td>Suíça</td>\n",
       "      <td>86</td>\n",
       "      <td>Rio Grande do Sul</td>\n",
       "      <td>21</td>\n",
       "      <td>Fluvial</td>\n",
       "      <td>4</td>\n",
       "      <td>2024</td>\n",
       "      <td>Dezembro</td>\n",
       "      <td>12</td>\n",
       "      <td>3</td>\n",
       "    </tr>\n",
       "    <tr>\n",
       "      <th>22852</th>\n",
       "      <td>América do Sul</td>\n",
       "      <td>4</td>\n",
       "      <td>Uruguai</td>\n",
       "      <td>36</td>\n",
       "      <td>Rio Grande do Sul</td>\n",
       "      <td>21</td>\n",
       "      <td>Fluvial</td>\n",
       "      <td>4</td>\n",
       "      <td>2024</td>\n",
       "      <td>Dezembro</td>\n",
       "      <td>12</td>\n",
       "      <td>6</td>\n",
       "    </tr>\n",
       "    <tr>\n",
       "      <th>22853</th>\n",
       "      <td>América do Sul</td>\n",
       "      <td>4</td>\n",
       "      <td>Argentina</td>\n",
       "      <td>26</td>\n",
       "      <td>Santa Catarina</td>\n",
       "      <td>24</td>\n",
       "      <td>Fluvial</td>\n",
       "      <td>4</td>\n",
       "      <td>2024</td>\n",
       "      <td>Dezembro</td>\n",
       "      <td>12</td>\n",
       "      <td>120</td>\n",
       "    </tr>\n",
       "    <tr>\n",
       "      <th>22854</th>\n",
       "      <td>América do Sul</td>\n",
       "      <td>4</td>\n",
       "      <td>Chile</td>\n",
       "      <td>28</td>\n",
       "      <td>Santa Catarina</td>\n",
       "      <td>24</td>\n",
       "      <td>Fluvial</td>\n",
       "      <td>4</td>\n",
       "      <td>2024</td>\n",
       "      <td>Dezembro</td>\n",
       "      <td>12</td>\n",
       "      <td>3</td>\n",
       "    </tr>\n",
       "    <tr>\n",
       "      <th>22855</th>\n",
       "      <td>América do Sul</td>\n",
       "      <td>4</td>\n",
       "      <td>Uruguai</td>\n",
       "      <td>36</td>\n",
       "      <td>Santa Catarina</td>\n",
       "      <td>24</td>\n",
       "      <td>Fluvial</td>\n",
       "      <td>4</td>\n",
       "      <td>2024</td>\n",
       "      <td>Dezembro</td>\n",
       "      <td>12</td>\n",
       "      <td>1</td>\n",
       "    </tr>\n",
       "  </tbody>\n",
       "</table>\n",
       "</div>"
      ],
      "text/plain": [
       "           Continente  cod continente       País  cod pais                 UF  \\\n",
       "22851          Europa               6      Suíça        86  Rio Grande do Sul   \n",
       "22852  América do Sul               4    Uruguai        36  Rio Grande do Sul   \n",
       "22853  América do Sul               4  Argentina        26     Santa Catarina   \n",
       "22854  América do Sul               4      Chile        28     Santa Catarina   \n",
       "22855  América do Sul               4    Uruguai        36     Santa Catarina   \n",
       "\n",
       "       cod uf      Via  cod via   ano       Mês  cod mes  Chegadas  \n",
       "22851      21  Fluvial        4  2024  Dezembro       12         3  \n",
       "22852      21  Fluvial        4  2024  Dezembro       12         6  \n",
       "22853      24  Fluvial        4  2024  Dezembro       12       120  \n",
       "22854      24  Fluvial        4  2024  Dezembro       12         3  \n",
       "22855      24  Fluvial        4  2024  Dezembro       12         1  "
      ]
     },
     "execution_count": 18,
     "metadata": {},
     "output_type": "execute_result"
    }
   ],
   "source": [
    "df.tail()"
   ]
  },
  {
   "cell_type": "markdown",
   "id": "e2a20970",
   "metadata": {},
   "source": [
    "- Informações da base (tipos de dados, linhas não nulas, número de entradas):"
   ]
  },
  {
   "cell_type": "code",
   "execution_count": 19,
   "id": "b381d827",
   "metadata": {},
   "outputs": [
    {
     "name": "stdout",
     "output_type": "stream",
     "text": [
      "<class 'pandas.core.frame.DataFrame'>\n",
      "RangeIndex: 22856 entries, 0 to 22855\n",
      "Data columns (total 12 columns):\n",
      " #   Column          Non-Null Count  Dtype \n",
      "---  ------          --------------  ----- \n",
      " 0   Continente      22856 non-null  object\n",
      " 1   cod continente  22856 non-null  int64 \n",
      " 2   País            22856 non-null  object\n",
      " 3   cod pais        22856 non-null  int64 \n",
      " 4   UF              22856 non-null  object\n",
      " 5   cod uf          22856 non-null  int64 \n",
      " 6   Via             22856 non-null  object\n",
      " 7   cod via         22856 non-null  int64 \n",
      " 8   ano             22856 non-null  int64 \n",
      " 9   Mês             22856 non-null  object\n",
      " 10  cod mes         22856 non-null  int64 \n",
      " 11  Chegadas        22856 non-null  int64 \n",
      "dtypes: int64(7), object(5)\n",
      "memory usage: 2.1+ MB\n"
     ]
    }
   ],
   "source": [
    "df.info()\n"
   ]
  },
  {
   "cell_type": "markdown",
   "id": "7d8b716f",
   "metadata": {},
   "source": [
    "- Verificando quantos valores únicos existem em cada coluna:"
   ]
  },
  {
   "cell_type": "code",
   "execution_count": 20,
   "id": "19d73789",
   "metadata": {},
   "outputs": [
    {
     "data": {
      "text/plain": [
       "Continente           8\n",
       "cod continente       8\n",
       "País                93\n",
       "cod pais            93\n",
       "UF                  18\n",
       "cod uf              18\n",
       "Via                  4\n",
       "cod via              4\n",
       "ano                  1\n",
       "Mês                 12\n",
       "cod mes             12\n",
       "Chegadas          1702\n",
       "dtype: int64"
      ]
     },
     "execution_count": 20,
     "metadata": {},
     "output_type": "execute_result"
    }
   ],
   "source": [
    "df.nunique()"
   ]
  },
  {
   "cell_type": "markdown",
   "id": "1f50c69b",
   "metadata": {},
   "source": [
    "- Visualizando os valores vazios:"
   ]
  },
  {
   "cell_type": "code",
   "execution_count": 21,
   "id": "523c6062",
   "metadata": {},
   "outputs": [
    {
     "data": {
      "text/plain": [
       "Continente        0\n",
       "cod continente    0\n",
       "País              0\n",
       "cod pais          0\n",
       "UF                0\n",
       "cod uf            0\n",
       "Via               0\n",
       "cod via           0\n",
       "ano               0\n",
       "Mês               0\n",
       "cod mes           0\n",
       "Chegadas          0\n",
       "dtype: int64"
      ]
     },
     "execution_count": 21,
     "metadata": {},
     "output_type": "execute_result"
    }
   ],
   "source": [
    "df.isnull().sum()"
   ]
  },
  {
   "cell_type": "markdown",
   "id": "a7920af3",
   "metadata": {},
   "source": [
    "###  Questionamentos \n",
    "---"
   ]
  },
  {
   "cell_type": "markdown",
   "id": "66b1a1a9",
   "metadata": {},
   "source": [
    "Por meio da análise inicial do arquivo, foi possível identificar as principais informações para compreender o comportamento da chegada de turistas ao Brasil ao longo do ano. Com base nisso, selecionei três questionamentos principais que considero estratégicos para gerar insights sobre o fluxo turístico no país:\n",
    "\n",
    "1. Classificação dos países por faixas de volume de turistas: a partir dessa análise é possível identificar quais países enviaram mais turistas ao Brasil e quais apresentam menor representatividade;\n",
    "2. Principais vias de entrada de turistas no Brasil: ajuda a entender por quais principais vias os turistas mais chegam ao país;\n",
    "3. Meses com maior número de chegadas de turistas via aérea em 2024: mostra a sazonalidade do turismo ao longo do ano por meio das vias aéreas.\n"
   ]
  },
  {
   "cell_type": "markdown",
   "id": "683f1e77",
   "metadata": {},
   "source": [
    "###  Criação do bucket e upload do arquivo\n",
    "---"
   ]
  },
  {
   "cell_type": "markdown",
   "id": "357092fa",
   "metadata": {},
   "source": [
    "Após a análise exploratória dos dados do arquivo chegadas_2024.csv, realizei o envio do mesmo para a nuvem utilizando o serviço Amazon S3, garantindo que os dados estejam acessíveis para as próximas etapas do projeto. Inicialmente, carreguei as variáveis de ambiente armazenadas no arquivo .env com a função load_dotenv(), assegurando a segurança das credenciais de autenticação (chave de acesso, segredo e token da sessão). Essas credenciais foram usadas para configurar o cliente do S3 via biblioteca boto3. Defini o nome do bucket como chegadas-turistas-2024-ana e, em seguida, executei sua criação por meio de um bloco try-except, tratando o cenário em que o bucket já exista e seja de minha propriedade. Vale ressaltar que, como a região utilizada foi a us-east-1, a criação do bucket foi realizada sem o parâmetro explícito de região, em conformidade com as regras da AWS para essa localidade. Com o bucket validado, o próximo passo foi o upload do arquivo chegadas_2024.csv, também encapsulado em um bloco de tratamento de exceções para lidar com possíveis falhas durante o envio."
   ]
  },
  {
   "cell_type": "code",
   "execution_count": null,
   "id": "00536ca4",
   "metadata": {},
   "outputs": [
    {
     "name": "stdout",
     "output_type": "stream",
     "text": [
      "Bucket 'chegadas-turistas-2024-ana' criado com sucesso!\n",
      "Arquivo 'chegadas_2024.csv' enviado com sucesso para o bucket 'chegadas-turistas-2024-ana'.\n"
     ]
    }
   ],
   "source": [
    "load_dotenv()\n",
    "env = os.environ\n",
    "\n",
    "bucket_name = \"chegadas-turistas-2024-ana\"\n",
    "arquivo_local = \"chegadas_2024.csv\"\n",
    "arquivo_s3 = \"chegadas_2024.csv\"\n",
    "\n",
    "region = env.get(\"AWS_REGION\")\n",
    "\n",
    "s3 = boto3.client(\n",
    "    's3',\n",
    "    aws_access_key_id=env.get(\"AWS_ACCESS_KEY_ID\"),\n",
    "    aws_secret_access_key=env.get(\"AWS_SECRET_ACCESS_KEY\"),\n",
    "    aws_session_token=env.get(\"AWS_SESSION_TOKEN\"),\n",
    "    region_name=region\n",
    ")\n",
    "\n",
    "try:\n",
    "    s3.create_bucket(Bucket=bucket_name)\n",
    "    print(f\"Bucket '{bucket_name}' criado com sucesso!\")\n",
    "except ClientError as e:\n",
    "    if e.response['Error']['Code'] == 'BucketAlreadyOwnedByYou':\n",
    "        print(f\"Bucket '{bucket_name}' já existe e pertence a você.\")\n",
    "    else:\n",
    "        raise\n",
    "\n",
    "try:\n",
    "    s3.upload_file(arquivo_local, bucket_name, arquivo_s3)\n",
    "    print(f\"Arquivo '{arquivo_local}' enviado com sucesso para o bucket '{bucket_name}'.\")\n",
    "except Exception as e:\n",
    "    print(\"Erro ao fazer upload:\", e)"
   ]
  }
 ],
 "metadata": {
  "kernelspec": {
   "display_name": "base",
   "language": "python",
   "name": "python3"
  },
  "language_info": {
   "codemirror_mode": {
    "name": "ipython",
    "version": 3
   },
   "file_extension": ".py",
   "mimetype": "text/x-python",
   "name": "python",
   "nbconvert_exporter": "python",
   "pygments_lexer": "ipython3",
   "version": "3.12.7"
  }
 },
 "nbformat": 4,
 "nbformat_minor": 5
}
