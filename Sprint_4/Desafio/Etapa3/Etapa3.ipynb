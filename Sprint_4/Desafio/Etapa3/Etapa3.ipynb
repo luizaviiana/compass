{
 "cells": [
  {
   "cell_type": "markdown",
   "id": "d21443e9",
   "metadata": {},
   "source": [
    "###  Desafio - Etapa3 🚀\n",
    "---"
   ]
  },
  {
   "cell_type": "markdown",
   "id": "01f5fe84",
   "metadata": {},
   "source": [
    "Nesta etapa do desafio, será realizado o envio do arquivo CSV limpo, chegadas_2024_limpo.csv, e dos gráficos gerados na etapa 2 (grafico_top20_paises.png, grafico_vias_pizza.png e grafico_chegadas_por_mes.png) correspondentes aos questionamentos analisados, para o bucket 'chegadas-turistas-2024-ana', criado na etapa 1. Esses arquivos estão armazenados localmente na pasta Etapa3, organizados e prontos para upload, garantindo que os resultados da análise estejam disponíveis de forma estruturada na nuvem."
   ]
  },
  {
   "cell_type": "markdown",
   "id": "9725253f",
   "metadata": {},
   "source": [
    "Neste trecho, importei as bibliotecas necessárias para a interação com o sistema operacional e com a AWS, além do gerenciamento de variáveis de ambiente e tratamento de exceções. A biblioteca os permite manipular caminhos de arquivos e variáveis do sistema operacional. boto3 é o SDK oficial da AWS para Python, utilizado para interagir com serviços da AWS, como o S3, facilitando o upload dos arquivos ao bucket. Para carregar as variáveis de ambiente definidas no arquivo .env, utilizei o load_dotenv da biblioteca dotenv, garantindo que credenciais e configurações sensíveis ficassem protegidas. Por fim, importei ClientError da botocore.exceptions para capturar e tratar erros específicos que possam ocorrer durante a comunicação com a AWS."
   ]
  },
  {
   "cell_type": "code",
   "execution_count": 4,
   "id": "15156558",
   "metadata": {},
   "outputs": [],
   "source": [
    "import os\n",
    "import boto3\n",
    "\n",
    "from dotenv import load_dotenv\n",
    "from botocore.exceptions import ClientError"
   ]
  },
  {
   "cell_type": "markdown",
   "id": "684f0f60",
   "metadata": {},
   "source": [
    "Comecei o código carregando as variáveis de ambiente do arquivo .env com load_dotenv(), permitindo acessar as credenciais da AWS de forma segura por meio do dicionário env. Em seguida, inicializei o cliente do S3 usando boto3.client(), passando as credenciais e a região obtidas do ambiente. Defini o nome do bucket S3 onde os arquivos seriam enviados e criei um dicionário arquivos_para_upload, que mapeia os caminhos locais dos arquivos aos nomes que terão no bucket. No loop for, percorri cada arquivo, abrindo em modo binário e utilizando s3.upload_fileobj() para fazer o upload para o bucket. Caso o arquivo local não fosse encontrado, o erro FileNotFoundError era capturado e uma mensagem era exibida. Se houvesse algum problema na comunicação com o S3, a exceção ClientError era tratada com uma mensagem detalhada. Ao final, o código exibe a confirmação do sucesso no envio de cada arquivo."
   ]
  },
  {
   "cell_type": "code",
   "execution_count": 5,
   "id": "0365548a",
   "metadata": {},
   "outputs": [
    {
     "name": "stdout",
     "output_type": "stream",
     "text": [
      " Arquivo 'chegadas_2024_limpo.csv' enviado com sucesso para o bucket 'chegadas-turistas-2024-ana'.\n",
      " Arquivo 'grafico_top20_paises.png' enviado com sucesso para o bucket 'chegadas-turistas-2024-ana'.\n",
      " Arquivo 'grafico_vias_pizza.png' enviado com sucesso para o bucket 'chegadas-turistas-2024-ana'.\n",
      " Arquivo 'grafico_chegadas_por_mes.png' enviado com sucesso para o bucket 'chegadas-turistas-2024-ana'.\n"
     ]
    }
   ],
   "source": [
    "load_dotenv()\n",
    "env = os.environ\n",
    "\n",
    "s3 = boto3.client(\n",
    "    's3',\n",
    "    aws_access_key_id=env.get(\"AWS_ACCESS_KEY_ID\"),\n",
    "    aws_secret_access_key=env.get(\"AWS_SECRET_ACCESS_KEY\"),\n",
    "    aws_session_token=env.get(\"AWS_SESSION_TOKEN\"),\n",
    "    region_name=env.get(\"AWS_REGION\")\n",
    ")\n",
    "\n",
    "bucket_name = \"chegadas-turistas-2024-ana\"\n",
    "\n",
    "arquivos_para_upload = {\n",
    "    'chegadas_2024_limpo.csv': 'chegadas_2024_limpo.csv',\n",
    "    'grafico_top20_paises.png': 'grafico_top20_paises.png',\n",
    "    'grafico_vias_pizza.png': 'grafico_vias_pizza.png',\n",
    "    'grafico_chegadas_por_mes.png': 'grafico_chegadas_por_mes.png'\n",
    "}\n",
    "\n",
    "for caminho_local, nome_s3 in arquivos_para_upload.items():\n",
    "    try:\n",
    "        with open(caminho_local, 'rb') as f:\n",
    "            s3.upload_fileobj(f, bucket_name, nome_s3)\n",
    "        print(f\" Arquivo '{nome_s3}' enviado com sucesso para o bucket '{bucket_name}'.\")\n",
    "    except FileNotFoundError:\n",
    "        print(f\"Arquivo não encontrado: {caminho_local}\")\n",
    "    except ClientError as e:\n",
    "        print(f\"Erro ao enviar '{nome_s3}' para o S3:\")\n",
    "        print(e)"
   ]
  }
 ],
 "metadata": {
  "kernelspec": {
   "display_name": "base",
   "language": "python",
   "name": "python3"
  },
  "language_info": {
   "codemirror_mode": {
    "name": "ipython",
    "version": 3
   },
   "file_extension": ".py",
   "mimetype": "text/x-python",
   "name": "python",
   "nbconvert_exporter": "python",
   "pygments_lexer": "ipython3",
   "version": "3.12.7"
  }
 },
 "nbformat": 4,
 "nbformat_minor": 5
}
